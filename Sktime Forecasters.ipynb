{
 "cells": [
  {
   "cell_type": "code",
   "execution_count": 4,
   "metadata": {},
   "outputs": [],
   "source": [
    "import matplotlib.pyplot as plt\n",
    "import sktime\n",
    "from sktime.forecasters import *\n",
    "import pandas as pd\n",
    "from sktime.datasets import load_shampoo_sales\n",
    "from online_experts import *\n",
    "from sktime.highlevel.tasks import ForecastingTask\n",
    "from sktime.highlevel.strategies import ForecastingStrategy"
   ]
  },
  {
   "cell_type": "code",
   "execution_count": 6,
   "metadata": {},
   "outputs": [],
   "source": [
    "shampoo = load_shampoo_sales(return_y_as_dataframe=True)\n",
    "train = pd.DataFrame(pd.Series([shampoo.iloc[0, 0].iloc[:24]]), columns=shampoo.columns)\n",
    "update = pd.DataFrame(pd.Series([shampoo.iloc[0, 0].iloc[:30]]), columns=shampoo.columns)\n",
    "test = pd.DataFrame(pd.Series([shampoo.iloc[0, 0].iloc[30:]]), columns=shampoo.columns)"
   ]
  },
  {
   "cell_type": "code",
   "execution_count": 7,
   "metadata": {},
   "outputs": [],
   "source": [
    "# get data into expected nested format\n",
    "train = pd.DataFrame(pd.Series([shampoo.iloc[0, 0].iloc[:24]]), columns=shampoo.columns)\n",
    "update = pd.DataFrame(pd.Series([shampoo.iloc[0, 0].iloc[:30]]), columns=shampoo.columns)\n",
    "test = pd.DataFrame(pd.Series([shampoo.iloc[0, 0].iloc[30:]]), columns=shampoo.columns)"
   ]
  },
  {
   "cell_type": "code",
   "execution_count": 8,
   "metadata": {},
   "outputs": [
    {
     "data": {
      "text/plain": [
       "0     266.0\n",
       "1     145.9\n",
       "2     183.1\n",
       "3     119.3\n",
       "4     180.3\n",
       "5     168.5\n",
       "6     231.8\n",
       "7     224.5\n",
       "8     192.8\n",
       "9     122.9\n",
       "10    336.5\n",
       "11    185.9\n",
       "12    194.3\n",
       "13    149.5\n",
       "14    210.1\n",
       "15    273.3\n",
       "16    191.4\n",
       "17    287.0\n",
       "18    226.0\n",
       "19    303.6\n",
       "20    289.9\n",
       "21    421.6\n",
       "22    264.5\n",
       "23    342.3\n",
       "Name: Sales, dtype: float64"
      ]
     },
     "execution_count": 8,
     "metadata": {},
     "output_type": "execute_result"
    }
   ],
   "source": [
    "train.iloc[0,0]"
   ]
  },
  {
   "cell_type": "code",
   "execution_count": 9,
   "metadata": {},
   "outputs": [
    {
     "data": {
      "text/plain": [
       "0     266.0\n",
       "1     145.9\n",
       "2     183.1\n",
       "3     119.3\n",
       "4     180.3\n",
       "5     168.5\n",
       "6     231.8\n",
       "7     224.5\n",
       "8     192.8\n",
       "9     122.9\n",
       "10    336.5\n",
       "11    185.9\n",
       "12    194.3\n",
       "13    149.5\n",
       "14    210.1\n",
       "15    273.3\n",
       "16    191.4\n",
       "17    287.0\n",
       "18    226.0\n",
       "19    303.6\n",
       "20    289.9\n",
       "21    421.6\n",
       "22    264.5\n",
       "23    342.3\n",
       "24    339.7\n",
       "25    440.4\n",
       "26    315.9\n",
       "27    439.3\n",
       "28    401.3\n",
       "29    437.4\n",
       "Name: Sales, dtype: float64"
      ]
     },
     "execution_count": 9,
     "metadata": {},
     "output_type": "execute_result"
    }
   ],
   "source": [
    "update.iloc[0,0]"
   ]
  },
  {
   "cell_type": "code",
   "execution_count": 14,
   "metadata": {},
   "outputs": [],
   "source": [
    "#create forecasting task specifying variable to be forecasted and forecasting horizon\n",
    "task = ForecastingTask(target='ShampooSales', fh=[6, 7, 8], metadata=train)"
   ]
  },
  {
   "cell_type": "code",
   "execution_count": 15,
   "metadata": {},
   "outputs": [
    {
     "data": {
      "text/plain": [
       "29    242.356876\n",
       "30    228.803899\n",
       "31    216.008825\n",
       "dtype: float64"
      ]
     },
     "execution_count": 15,
     "metadata": {},
     "output_type": "execute_result"
    }
   ],
   "source": [
    "# ARIMA forecasting strategy\n",
    "estimator = ARIMAForecaster()\n",
    "m = ForecastingStrategy(estimator=estimator)\n",
    "m.fit(task, train)\n",
    "m.predict()"
   ]
  },
  {
   "cell_type": "code",
   "execution_count": 16,
   "metadata": {},
   "outputs": [
    {
     "data": {
      "text/plain": [
       "29    229.625\n",
       "30    229.625\n",
       "31    229.625\n",
       "dtype: float64"
      ]
     },
     "execution_count": 16,
     "metadata": {},
     "output_type": "execute_result"
    }
   ],
   "source": [
    "# \n",
    "estimator = DummyForecaster(strategy='mean')\n",
    "m = ForecastingStrategy(estimator=estimator)\n",
    "m.fit(task, train)\n",
    "m.predict()"
   ]
  }
 ],
 "metadata": {
  "kernelspec": {
   "display_name": "Python 3",
   "language": "python",
   "name": "python3"
  },
  "language_info": {
   "codemirror_mode": {
    "name": "ipython",
    "version": 3
   },
   "file_extension": ".py",
   "mimetype": "text/x-python",
   "name": "python",
   "nbconvert_exporter": "python",
   "pygments_lexer": "ipython3",
   "version": "3.7.4"
  }
 },
 "nbformat": 4,
 "nbformat_minor": 2
}
