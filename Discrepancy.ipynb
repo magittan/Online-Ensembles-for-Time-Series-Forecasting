{
 "cells": [
  {
   "cell_type": "markdown",
   "metadata": {},
   "source": [
    "Empirical Discrepancy is defined as\n",
    "\n",
    "$$ \\widehat{\\text{disc}_H}(q) = \\sup\\limits_{h\\in H, h\\in H_A} \\left| \\sum\\limits^T_{t=1} q_t(L(h_t(X_{T+1}),h(X_{T+1})) - L(h_t,Z_t))\\right|$$\n"
   ]
  },
  {
   "cell_type": "markdown",
   "metadata": {},
   "source": [
    "How do we minimize the following?"
   ]
  },
  {
   "cell_type": "markdown",
   "metadata": {},
   "source": [
    "$$ \\widehat{\\text{disc}_H}(q) + \\sum\\limits_{t=1}^T q_t L(h_t,Z_t)$$"
   ]
  },
  {
   "cell_type": "markdown",
   "metadata": {},
   "source": [
    "First we need to modify an Online Expert"
   ]
  },
  {
   "cell_type": "code",
   "execution_count": 6,
   "metadata": {},
   "outputs": [],
   "source": [
    "from Expert_Prediction.online_experts import *"
   ]
  },
  {
   "cell_type": "code",
   "execution_count": 7,
   "metadata": {},
   "outputs": [],
   "source": [
    "import numpy as np"
   ]
  },
  {
   "cell_type": "code",
   "execution_count": 8,
   "metadata": {},
   "outputs": [],
   "source": [
    "actual_values = np.random.randint(0,10,size=[40])\n",
    "def create_expert(std,actual_values):\n",
    "    return actual_values+np.random.randn(actual_values.size)*std\n",
    "# Fixed Standard Deviations for each expert\n",
    "stds = [1,0.1,0.03,0.5,1.3,2,5,1,2,5]\n",
    "expert_predictions = np.array([create_expert(std,actual_values) for std in stds])"
   ]
  },
  {
   "cell_type": "code",
   "execution_count": 14,
   "metadata": {},
   "outputs": [
    {
     "data": {
      "text/plain": [
       "(10, 39)"
      ]
     },
     "execution_count": 14,
     "metadata": {},
     "output_type": "execute_result"
    }
   ],
   "source": [
    "expert_predictions[:,:-1].shape"
   ]
  },
  {
   "cell_type": "code",
   "execution_count": 13,
   "metadata": {},
   "outputs": [
    {
     "data": {
      "text/plain": [
       "(39,)"
      ]
     },
     "execution_count": 13,
     "metadata": {},
     "output_type": "execute_result"
    }
   ],
   "source": [
    "actual_values[:-1].shape"
   ]
  },
  {
   "cell_type": "code",
   "execution_count": 10,
   "metadata": {},
   "outputs": [],
   "source": [
    "test1 = OnlineHedgeDoubling(n=10,T=50,loss_func=se)"
   ]
  },
  {
   "cell_type": "code",
   "execution_count": 185,
   "metadata": {},
   "outputs": [],
   "source": [
    "hypotheses = []\n",
    "for i in range(39):\n",
    "    a = np.zeros(10)\n",
    "    a[np.random.choice(10)]=1\n",
    "    hypotheses.append(a)"
   ]
  },
  {
   "cell_type": "code",
   "execution_count": 186,
   "metadata": {},
   "outputs": [],
   "source": [
    "hypotheses = np.array(hypotheses).T"
   ]
  },
  {
   "cell_type": "code",
   "execution_count": 106,
   "metadata": {},
   "outputs": [],
   "source": [
    "predictions = (hypotheses * expert_predictions[:,:-1])"
   ]
  },
  {
   "cell_type": "code",
   "execution_count": 113,
   "metadata": {},
   "outputs": [],
   "source": [
    "hypotheses_series = predictions.sum(axis=0)"
   ]
  },
  {
   "cell_type": "code",
   "execution_count": 120,
   "metadata": {},
   "outputs": [],
   "source": [
    "losses_t = se(hypotheses_series,actual_values[:-1])"
   ]
  },
  {
   "cell_type": "code",
   "execution_count": 125,
   "metadata": {},
   "outputs": [
    {
     "data": {
      "text/plain": [
       "array([2.81251379e-01, 1.20836531e+01, 4.36578044e-01, 1.36092227e+00,\n",
       "       3.53949075e+00, 9.97113078e+00, 1.28150505e+02, 1.62655842e+00,\n",
       "       3.36073960e-01, 1.29306976e-02, 1.03677406e+00, 7.63282041e-01,\n",
       "       2.14001279e+01, 1.66293267e+01, 6.20483994e-01, 2.69278353e-03,\n",
       "       1.93613123e+00, 4.78688794e-01, 1.52703935e+00, 1.21336277e+00,\n",
       "       9.43265162e-01, 3.67192802e+01, 5.60682381e+00, 1.13385053e+01,\n",
       "       3.59226683e-03, 1.94610806e-01, 1.36575447e-01, 1.16087696e+00,\n",
       "       4.18650611e-01, 4.10015350e-01, 1.54579732e-01, 2.12265955e-03,\n",
       "       6.90779570e+00, 2.77437082e-01, 1.15152514e+00, 2.23949399e-01,\n",
       "       1.31543575e-03, 2.10536959e-01, 1.15850058e+00])"
      ]
     },
     "execution_count": 125,
     "metadata": {},
     "output_type": "execute_result"
    }
   ],
   "source": [
    "losses_t"
   ]
  },
  {
   "cell_type": "code",
   "execution_count": 124,
   "metadata": {},
   "outputs": [
    {
     "data": {
      "text/plain": [
       "array([ 4.61859433e-01, -1.15349826e+01,  5.61575462e-02,  3.01468696e-01,\n",
       "       -1.10267932e+00,  7.40396795e+00,  3.96144990e+01,  5.58807517e-01,\n",
       "       -1.87323489e-01,  9.68973434e-03, -8.01354485e-02, -8.58112971e-01,\n",
       "       -2.28566266e+01,  8.51067644e-01, -4.96424044e-01,  2.29544943e-03,\n",
       "        3.30612320e+00,  6.58633259e-01,  1.15036769e+00, -7.35917821e-01,\n",
       "       -1.82843996e+00,  1.49154597e+01,  6.33779120e+00, -4.22985507e+00,\n",
       "       -3.67847064e-03,  1.41975556e-01, -3.65325392e-01, -1.03106210e+00,\n",
       "       -2.43652105e-02, -2.24922708e-01, -1.35945595e-01, -2.78210750e-03,\n",
       "       -7.41513745e+00,  5.29539598e-01,  2.13815066e+00, -4.99773243e-01,\n",
       "       -2.02135654e-05,  2.10148193e-01, -2.99380119e-01])"
      ]
     },
     "execution_count": 124,
     "metadata": {},
     "output_type": "execute_result"
    }
   ],
   "source": [
    "np.random.randn(39)*losses_t"
   ]
  },
  {
   "cell_type": "code",
   "execution_count": 149,
   "metadata": {
    "scrolled": false
   },
   "outputs": [
    {
     "data": {
      "text/plain": [
       "array([2.81251379e-01, 1.20836531e+01, 4.36578044e-01, 1.36092227e+00,\n",
       "       3.53949075e+00, 9.97113078e+00, 1.28150505e+02, 1.62655842e+00,\n",
       "       3.36073960e-01, 1.29306976e-02, 1.03677406e+00, 7.63282041e-01,\n",
       "       2.14001279e+01, 1.66293267e+01, 6.20483994e-01, 2.69278353e-03,\n",
       "       1.93613123e+00, 4.78688794e-01, 1.52703935e+00, 1.21336277e+00,\n",
       "       9.43265162e-01, 3.67192802e+01, 5.60682381e+00, 1.13385053e+01,\n",
       "       3.59226683e-03, 1.94610806e-01, 1.36575447e-01, 1.16087696e+00,\n",
       "       4.18650611e-01, 4.10015350e-01, 1.54579732e-01, 2.12265955e-03,\n",
       "       6.90779570e+00, 2.77437082e-01, 1.15152514e+00, 2.23949399e-01,\n",
       "       1.31543575e-03, 2.10536959e-01, 1.15850058e+00])"
      ]
     },
     "execution_count": 149,
     "metadata": {},
     "output_type": "execute_result"
    }
   ],
   "source": [
    "losses_t"
   ]
  },
  {
   "cell_type": "code",
   "execution_count": 150,
   "metadata": {
    "scrolled": false
   },
   "outputs": [
    {
     "data": {
      "text/plain": [
       "array([4.53153951, 3.97399212, 4.01611593, 3.7608536 , 5.19541397,\n",
       "       3.74821712, 4.58448697, 5.69678644, 4.65131307, 4.21289229])"
      ]
     },
     "execution_count": 150,
     "metadata": {},
     "output_type": "execute_result"
    }
   ],
   "source": [
    "expert_predictions[:,39]"
   ]
  },
  {
   "cell_type": "code",
   "execution_count": 143,
   "metadata": {},
   "outputs": [
    {
     "ename": "NameError",
     "evalue": "name 'possible' is not defined",
     "output_type": "error",
     "traceback": [
      "\u001b[0;31m---------------------------------------------------------------------------\u001b[0m",
      "\u001b[0;31mNameError\u001b[0m                                 Traceback (most recent call last)",
      "\u001b[0;32m<ipython-input-143-1c258e9a1dbf>\u001b[0m in \u001b[0;36m<module>\u001b[0;34m\u001b[0m\n\u001b[0;32m----> 1\u001b[0;31m \u001b[0mpossible\u001b[0m\u001b[0;34m\u001b[0m\u001b[0;34m\u001b[0m\u001b[0m\n\u001b[0m",
      "\u001b[0;31mNameError\u001b[0m: name 'possible' is not defined"
     ]
    }
   ],
   "source": [
    "possible"
   ]
  },
  {
   "cell_type": "code",
   "execution_count": 172,
   "metadata": {},
   "outputs": [],
   "source": [
    "set_of_losses = np.array([se(np.dot(expert_predictions[:,39],hypotheses),h) for h in expert_predictions[:,39]])"
   ]
  },
  {
   "cell_type": "code",
   "execution_count": 175,
   "metadata": {},
   "outputs": [
    {
     "data": {
      "text/plain": [
       "(10, 39)"
      ]
     },
     "execution_count": 175,
     "metadata": {},
     "output_type": "execute_result"
    }
   ],
   "source": [
    "set_of_losses.shape"
   ]
  },
  {
   "cell_type": "code",
   "execution_count": 163,
   "metadata": {},
   "outputs": [
    {
     "data": {
      "text/plain": [
       "(39, 10)"
      ]
     },
     "execution_count": 163,
     "metadata": {},
     "output_type": "execute_result"
    }
   ],
   "source": [
    "np.outer(np.random.randn(39),np.ones(10))"
   ]
  },
  {
   "cell_type": "code",
   "execution_count": 181,
   "metadata": {},
   "outputs": [
    {
     "data": {
      "text/plain": [
       "(10,)"
      ]
     },
     "execution_count": 181,
     "metadata": {},
     "output_type": "execute_result"
    }
   ],
   "source": [
    "np.dot(set_of_losses,np.random.randn(39)).shape"
   ]
  },
  {
   "cell_type": "code",
   "execution_count": 180,
   "metadata": {},
   "outputs": [
    {
     "data": {
      "text/plain": [
       "-191.0257301185086"
      ]
     },
     "execution_count": 180,
     "metadata": {},
     "output_type": "execute_result"
    }
   ],
   "source": [
    "np.dot(se(hypotheses_series,actual_values[:39]),np.random.randn(39))"
   ]
  },
  {
   "cell_type": "code",
   "execution_count": 196,
   "metadata": {},
   "outputs": [],
   "source": [
    "def discrepancy(q, hypotheses, updated_expert_predictions, expert_predictions, actual_values, loss_func=None):\n",
    "    predictions = (hypotheses * expert_predictions)\n",
    "    hypotheses_series = predictions.sum(axis=0)\n",
    "    \n",
    "    losses_t = loss_func(hypotheses_series,actual_values)\n",
    "    \n",
    "    q_weighted_losses_t = np.dot(losses_t,q)\n",
    "    set_of_hypothesis_losses = np.array([loss_func(np.dot(updated_expert_predictions,hypotheses),h) for h in updated_expert_predictions])\n",
    "    \n",
    "    abs_total_losses = abs(np.dot(set_of_hypothesis_losses,q)-q_weighted_losses_t)\n",
    "    sup_abs_total_losses = np.max(abs_total_losses)\n",
    "    return sup_abs_total_losses"
   ]
  },
  {
   "cell_type": "code",
   "execution_count": 197,
   "metadata": {},
   "outputs": [
    {
     "data": {
      "text/plain": [
       "2.1939857104728095"
      ]
     },
     "execution_count": 197,
     "metadata": {},
     "output_type": "execute_result"
    }
   ],
   "source": [
    "discrepancy(np.ones(39)/39,hypotheses,expert_predictions[:,39],expert_predictions[:,:39],actual_values[:39],loss_func=se)"
   ]
  }
 ],
 "metadata": {
  "kernelspec": {
   "display_name": "Python 3",
   "language": "python",
   "name": "python3"
  },
  "language_info": {
   "codemirror_mode": {
    "name": "ipython",
    "version": 3
   },
   "file_extension": ".py",
   "mimetype": "text/x-python",
   "name": "python",
   "nbconvert_exporter": "python",
   "pygments_lexer": "ipython3",
   "version": "3.7.4"
  }
 },
 "nbformat": 4,
 "nbformat_minor": 2
}
