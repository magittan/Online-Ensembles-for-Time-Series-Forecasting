{
 "cells": [
  {
   "cell_type": "code",
   "execution_count": 8,
   "metadata": {},
   "outputs": [],
   "source": [
    "import numpy as np\n",
    "import matplotlib.pyplot as plt"
   ]
  },
  {
   "cell_type": "code",
   "execution_count": 7,
   "metadata": {},
   "outputs": [],
   "source": []
  },
  {
   "cell_type": "markdown",
   "metadata": {},
   "source": [
    "Tricky Ideas:\n",
    "- Need to maintain a notion of time from initialization for training\n",
    "- Need to maintain a notion of time while fitting and initializing\n",
    "\n",
    "Use Cases would be:\n",
    "- Train on a bunch of losses\n",
    "- Train on a bunch of losses, then iteratively predict and train at each time step \n",
    "- Train on a bunch of losses, then iteratively predict and train at each time step "
   ]
  },
  {
   "cell_type": "markdown",
   "metadata": {},
   "source": [
    "Cases not considered:\n",
    "- Features coming in at unequal times (in this case we would need to sample the data at equal times)"
   ]
  },
  {
   "cell_type": "markdown",
   "metadata": {},
   "source": [
    "https://www.cs.princeton.edu/~rlivni/cos511/lectures/lect18.pdf"
   ]
  },
  {
   "cell_type": "code",
   "execution_count": 9,
   "metadata": {},
   "outputs": [],
   "source": [
    "#Loss Functions\n",
    "def se(actual,expected):\n",
    "    \"\"\"\n",
    "    Will return the squared error between the two arguments\n",
    "    \"\"\"\n",
    "    return np.power(np.subtract(actual,expected),2)\n",
    "\n",
    "def mse(actual,expected):\n",
    "    \"\"\"\n",
    "    Will return the mean squared error between the two arguments\n",
    "    \"\"\"\n",
    "    return np.mean(se(actual,expected))"
   ]
  },
  {
   "cell_type": "code",
   "execution_count": 10,
   "metadata": {},
   "outputs": [],
   "source": [
    "def _choose_from_distribution(axis_weights,sample_size=1):\n",
    "        \"\"\"\n",
    "        Parameters\n",
    "        ----------\n",
    "        axis_weights: np.array() 1-D Array\n",
    "\n",
    "        Returns\n",
    "        -------\n",
    "        np.array() with indices chosen according to the probability distribution defined by the axis weights\n",
    "\n",
    "        Functional Code\n",
    "        ---------------\n",
    "            weights = abs(np.random.randn(10))\n",
    "            weights/=np.sum(weights)\n",
    "            bins = np.cumsum(weights)\n",
    "            selections = np.random.uniform(size=10)\n",
    "\n",
    "        Test Code\n",
    "        ---------\n",
    "            a = choosing_with_respect_to_prob_dist([1,2,3],sample_size=10000)\n",
    "            print(\"Should be around .16: {}\".format(np.sum(a==0)/10000))\n",
    "            print(\"Should be around .33: {}\".format(np.sum(a==1)/10000))\n",
    "            print(\"Should be around .50: {}\".format(np.sum(a==2)/10000))\n",
    "        \"\"\"\n",
    "        weights = axis_weights/np.sum(axis_weights)\n",
    "        bins = np.cumsum(weights)\n",
    "\n",
    "        selections = np.random.uniform(size=sample_size)\n",
    "        indices = [bisect.bisect_left(bins,s) for s in selections]\n",
    "\n",
    "        return np.array(indices)\n",
    "    \n",
    "def _set_uniform(n):\n",
    "        return np.ones(n)/n\n",
    "    \n",
    "def _define_epsilon(n,T,a=1):\n",
    "    \"\"\"\n",
    "    Calculates a factor that is used in determining loss in the hedge algorithm\n",
    "\n",
    "    Args:\n",
    "        n (int): number of experts present\n",
    "        T (int): number of time steps taken\n",
    "        a (float): value that we can use to scale our epsilon\n",
    "    Return:\n",
    "        epsilon (float): the theoretical episilon, but which can be customized by a\n",
    "    \"\"\"\n",
    "\n",
    "    return np.sqrt(np.log(n)/T)*a"
   ]
  },
  {
   "cell_type": "markdown",
   "metadata": {},
   "source": [
    "# Hedge Algorithm with Doubling Trick"
   ]
  },
  {
   "cell_type": "code",
   "execution_count": 11,
   "metadata": {},
   "outputs": [],
   "source": [
    "class OnlineExperts(object):\n",
    "\n",
    "    def __init__(self,**kwargs):\n",
    "        pass\n",
    "    def _predict(self, expert_predictions):\n",
    "        pass\n",
    "    def _update(self, expert_predictions, actual_values, loss_func = se):\n",
    "        pass"
   ]
  },
  {
   "cell_type": "code",
   "execution_count": 13,
   "metadata": {},
   "outputs": [],
   "source": [
    "class OnlineHedge(OnlineExperts):\n",
    "\n",
    "    def __init__(self,n=10,T=10,a=1):\n",
    "        self.n = n\n",
    "        self.T = T\n",
    "        self.a = a\n",
    "        self.weights = _set_uniform(n)\n",
    "        self.epsilon = _define_epsilon(self.n,self.T,a=a)\n",
    "        \n",
    "        self.time = 0\n",
    "        \n",
    "    def _predict(self,expert_predictions):\n",
    "        \"\"\"\n",
    "        Weights the expert predictions into a single prediction based on the weights that have been calculated by the\n",
    "        hedge algorithm\n",
    "\n",
    "        Args:\n",
    "            expert predictions (np.array) (pred.float): np.array with the expert predictions\n",
    "\n",
    "        Returns:\n",
    "            a value for prediction based on the inputs of the experts and their respective weights.\n",
    "        \"\"\"\n",
    "        choosen_prediction = expert_predictions[_choose_from_distribution(self.weights,sample_size=1)]\n",
    "        \n",
    "        return chosen_prediction\n",
    "    \n",
    "    \n",
    "    def _update(self, expert_predictions, actual_values, loss_func = se):\n",
    "        pass\n",
    "        \n",
    "    def _modify_weights(self,new_array):\n",
    "        self.weights = self.weights * new_array\n",
    "        self.weights /= np.sum(self.weights)"
   ]
  },
  {
   "cell_type": "code",
   "execution_count": 27,
   "metadata": {},
   "outputs": [],
   "source": [
    "class OnlineHedgeDoubling(OnlineHedge):\n",
    "\n",
    "    def __init__(self,n=10,T=10,a=1):\n",
    "        self.n = n\n",
    "        self.T = T\n",
    "        self.a = a\n",
    "        self.weights = _set_uniform(n)\n",
    "        self.epsilon = _define_epsilon(self.n,self.T,a=a)\n",
    "        \n",
    "        self.time = 0\n",
    "    \n",
    "    def _update(self, expert_predictions, actual_values, loss_func = se):\n",
    "        \"\"\"\n",
    "        \"\"\"\n",
    "        assert expert_predictions.shape[1]==len(actual_values), \"Time Dimension Matches\"\n",
    "        time_length = expert_predictions.shape[1]\n",
    "        \n",
    "        total_time = time_length+self.time\n",
    "        \n",
    "        a = int(np.floor(np.log2(total_time/self.T)))\n",
    "        splits = [self.T*2**(i)-self.time for i in range(a)]\n",
    "        # negative indices are ignored\n",
    "        splits = list(filter(lambda x: x>=0,splits))\n",
    "        partitions = np.split(np.arange(total_time-self.time),splits)\n",
    "        \n",
    "        for i in range(len(partitions)):\n",
    "            self.time+=len(partitions[i])\n",
    "            \n",
    "#             print(partitions[i])\n",
    "#             print(self.time)\n",
    "            \n",
    "            if self.time>self.T:\n",
    "                self.T = 2*self.T\n",
    "                self.epsilon = _define_epsilon(self.n,self.T,self.a)\n",
    "                \n",
    "            losses = np.array([loss_func(expert_predictions[:,part], actual_values[part]) for part in partitions[i]])\n",
    "            f = lambda x: np.exp(-self.epsilon*x)\n",
    "            self._modify_weights(f(losses))"
   ]
  },
  {
   "cell_type": "code",
   "execution_count": null,
   "metadata": {},
   "outputs": [],
   "source": [
    "class OnlineHedgeIncrementalTime(OnlineHedge):\n",
    "\n",
    "    def __init__(self,n=10,T=None,a=1):\n",
    "        super().__init__(n=10,T=None,a=1)\n",
    "        self.loss = 0\n",
    "    def _update(self, expert_predictions, actual_values, loss_func = se):\n",
    "        \"\"\"\n",
    "        \"\"\"\n",
    "        assert expert_predictions.shape[1]==len(actual_values), \"Time Dimension Matches\"\n",
    "        time_length = expert_predictions.shape[1]\n",
    "        \n",
    "        total_time = time_length+self.time\n",
    "        \n",
    "        for i in range(len(time_length)):\n",
    "            self.time+=1\n",
    "            epsilon = _define_epsilon(self.n,self.time,self.a)\n",
    "            losses = loss_func(expert_predictions[:,i], actual_values[i])\n",
    "            f = lambda x: np.exp(-epsilon*x)\n",
    "            self._modify_weights(np.prod(f(losses),0))"
   ]
  },
  {
   "cell_type": "code",
   "execution_count": 26,
   "metadata": {},
   "outputs": [],
   "source": [
    "np.prod?"
   ]
  },
  {
   "cell_type": "code",
   "execution_count": 15,
   "metadata": {},
   "outputs": [],
   "source": [
    "time = 0"
   ]
  },
  {
   "cell_type": "code",
   "execution_count": 19,
   "metadata": {},
   "outputs": [],
   "source": [
    "total_time = 10"
   ]
  },
  {
   "cell_type": "code",
   "execution_count": 22,
   "metadata": {},
   "outputs": [],
   "source": [
    "times = np.arange(time,time+total_time)+1"
   ]
  },
  {
   "cell_type": "code",
   "execution_count": 25,
   "metadata": {},
   "outputs": [
    {
     "data": {
      "text/plain": [
       "array([1.51742713, 1.07298301, 0.87608696, 0.75871356, 0.67861404,\n",
       "       0.61948703, 0.57353355, 0.53649151, 0.50580904, 0.47985259])"
      ]
     },
     "execution_count": 25,
     "metadata": {},
     "output_type": "execute_result"
    }
   ],
   "source": [
    "np.array(list(map(lambda x: _define_epsilon(10,x), times)))"
   ]
  },
  {
   "cell_type": "markdown",
   "metadata": {},
   "source": [
    "# Default (One Update) Test"
   ]
  },
  {
   "cell_type": "code",
   "execution_count": 5,
   "metadata": {},
   "outputs": [],
   "source": [
    "test1 = OnlineHedge(n=10,T=20,a=1)"
   ]
  },
  {
   "cell_type": "code",
   "execution_count": 6,
   "metadata": {},
   "outputs": [],
   "source": [
    "expert_predictions = np.random.randn(10,20)"
   ]
  },
  {
   "cell_type": "code",
   "execution_count": 7,
   "metadata": {},
   "outputs": [],
   "source": [
    "actual_values = np.random.randn(20)"
   ]
  },
  {
   "cell_type": "code",
   "execution_count": 8,
   "metadata": {},
   "outputs": [
    {
     "name": "stdout",
     "output_type": "stream",
     "text": [
      "[ 0  1  2  3  4  5  6  7  8  9 10 11 12 13 14 15 16 17 18 19]\n",
      "20\n"
     ]
    }
   ],
   "source": [
    "test1._update(expert_predictions,actual_values)"
   ]
  },
  {
   "cell_type": "code",
   "execution_count": 9,
   "metadata": {},
   "outputs": [
    {
     "data": {
      "text/plain": [
       "20"
      ]
     },
     "execution_count": 9,
     "metadata": {},
     "output_type": "execute_result"
    }
   ],
   "source": [
    "test1.time"
   ]
  },
  {
   "cell_type": "markdown",
   "metadata": {},
   "source": [
    "# (Multiple) Update Test"
   ]
  },
  {
   "cell_type": "code",
   "execution_count": 10,
   "metadata": {},
   "outputs": [
    {
     "name": "stdout",
     "output_type": "stream",
     "text": [
      "[ 0  1  2  3  4  5  6  7  8  9 10 11 12 13 14 15 16 17 18 19]\n",
      "20\n"
     ]
    }
   ],
   "source": [
    "test2 = OnlineHedge(n=10,T=20,a=1)\n",
    "expert_predictions = np.random.randn(10,20)\n",
    "actual_values = np.random.randn(20)\n",
    "test2._update(expert_predictions,actual_values)"
   ]
  },
  {
   "cell_type": "code",
   "execution_count": 11,
   "metadata": {},
   "outputs": [
    {
     "data": {
      "text/plain": [
       "20"
      ]
     },
     "execution_count": 11,
     "metadata": {},
     "output_type": "execute_result"
    }
   ],
   "source": [
    "test2.time"
   ]
  },
  {
   "cell_type": "code",
   "execution_count": 12,
   "metadata": {},
   "outputs": [
    {
     "name": "stdout",
     "output_type": "stream",
     "text": [
      "[]\n",
      "20\n",
      "[ 0  1  2  3  4  5  6  7  8  9 10 11 12 13 14 15 16 17 18 19]\n",
      "40\n"
     ]
    }
   ],
   "source": [
    "test2._update(expert_predictions,actual_values)"
   ]
  },
  {
   "cell_type": "code",
   "execution_count": 13,
   "metadata": {},
   "outputs": [
    {
     "data": {
      "text/plain": [
       "40"
      ]
     },
     "execution_count": 13,
     "metadata": {},
     "output_type": "execute_result"
    }
   ],
   "source": [
    "test2.time"
   ]
  },
  {
   "cell_type": "code",
   "execution_count": 14,
   "metadata": {},
   "outputs": [
    {
     "data": {
      "text/plain": [
       "0.23992629560940407"
      ]
     },
     "execution_count": 14,
     "metadata": {},
     "output_type": "execute_result"
    }
   ],
   "source": [
    "test2.epsilon"
   ]
  },
  {
   "cell_type": "markdown",
   "metadata": {},
   "source": [
    "# Negative Splits"
   ]
  },
  {
   "cell_type": "code",
   "execution_count": 15,
   "metadata": {},
   "outputs": [],
   "source": [
    "test3 = OnlineHedge(n=10,T=20,a=1)\n",
    "expert_predictions = np.random.randn(10,20)\n",
    "actual_values = np.random.randn(20)"
   ]
  },
  {
   "cell_type": "code",
   "execution_count": 16,
   "metadata": {},
   "outputs": [
    {
     "name": "stdout",
     "output_type": "stream",
     "text": [
      "[ 0  1  2  3  4  5  6  7  8  9 10 11 12 13 14 15 16 17 18 19]\n",
      "20\n",
      "[]\n",
      "20\n",
      "[ 0  1  2  3  4  5  6  7  8  9 10 11 12 13 14 15 16 17 18 19]\n",
      "40\n",
      "[ 0  1  2  3  4  5  6  7  8  9 10 11 12 13 14 15 16 17 18 19]\n",
      "60\n",
      "[ 0  1  2  3  4  5  6  7  8  9 10 11 12 13 14 15 16 17 18 19]\n",
      "80\n",
      "[ 0  1  2  3  4  5  6  7  8  9 10 11 12 13 14 15 16 17 18 19]\n",
      "100\n"
     ]
    }
   ],
   "source": [
    "test3._update(expert_predictions,actual_values)\n",
    "test3._update(expert_predictions,actual_values)\n",
    "test3._update(expert_predictions,actual_values)\n",
    "test3._update(expert_predictions,actual_values)\n",
    "test3._update(expert_predictions,actual_values)"
   ]
  },
  {
   "cell_type": "code",
   "execution_count": 17,
   "metadata": {},
   "outputs": [
    {
     "data": {
      "text/plain": [
       "0.11996314780470203"
      ]
     },
     "execution_count": 17,
     "metadata": {},
     "output_type": "execute_result"
    }
   ],
   "source": [
    "test3.epsilon"
   ]
  },
  {
   "cell_type": "code",
   "execution_count": 18,
   "metadata": {},
   "outputs": [
    {
     "data": {
      "text/plain": [
       "100"
      ]
     },
     "execution_count": 18,
     "metadata": {},
     "output_type": "execute_result"
    }
   ],
   "source": [
    "test3.time"
   ]
  },
  {
   "cell_type": "markdown",
   "metadata": {},
   "source": [
    "# Checking Epsilon Updates"
   ]
  },
  {
   "cell_type": "code",
   "execution_count": 19,
   "metadata": {},
   "outputs": [],
   "source": [
    "test4 = OnlineHedge(n=10,T=20,a=1)\n",
    "expert_predictions = np.random.randn(10,13)\n",
    "actual_values = np.random.randn(13)"
   ]
  },
  {
   "cell_type": "code",
   "execution_count": 20,
   "metadata": {},
   "outputs": [
    {
     "name": "stdout",
     "output_type": "stream",
     "text": [
      "[ 0  1  2  3  4  5  6  7  8  9 10 11 12]\n",
      "13\n"
     ]
    }
   ],
   "source": [
    "test4._update(expert_predictions,actual_values)"
   ]
  },
  {
   "cell_type": "code",
   "execution_count": 21,
   "metadata": {},
   "outputs": [
    {
     "name": "stdout",
     "output_type": "stream",
     "text": [
      "[ 0  1  2  3  4  5  6  7  8  9 10 11 12]\n",
      "26\n"
     ]
    }
   ],
   "source": [
    "test4._update(expert_predictions,actual_values)"
   ]
  },
  {
   "cell_type": "code",
   "execution_count": 22,
   "metadata": {},
   "outputs": [],
   "source": [
    "expert_predictions = np.random.randn(10,14)\n",
    "actual_values = np.random.randn(14)"
   ]
  },
  {
   "cell_type": "code",
   "execution_count": 23,
   "metadata": {},
   "outputs": [
    {
     "name": "stdout",
     "output_type": "stream",
     "text": [
      "[ 0  1  2  3  4  5  6  7  8  9 10 11 12 13]\n",
      "40\n"
     ]
    }
   ],
   "source": [
    "test4._update(expert_predictions,actual_values)"
   ]
  },
  {
   "cell_type": "code",
   "execution_count": 24,
   "metadata": {},
   "outputs": [
    {
     "data": {
      "text/plain": [
       "0.23992629560940407"
      ]
     },
     "execution_count": 24,
     "metadata": {},
     "output_type": "execute_result"
    }
   ],
   "source": [
    "test4.epsilon"
   ]
  },
  {
   "cell_type": "code",
   "execution_count": 25,
   "metadata": {},
   "outputs": [],
   "source": [
    "expert_predictions = np.random.randn(10,40)\n",
    "actual_values = np.random.randn(40)"
   ]
  },
  {
   "cell_type": "code",
   "execution_count": 26,
   "metadata": {},
   "outputs": [
    {
     "name": "stdout",
     "output_type": "stream",
     "text": [
      "[]\n",
      "40\n",
      "[ 0  1  2  3  4  5  6  7  8  9 10 11 12 13 14 15 16 17 18 19 20 21 22 23\n",
      " 24 25 26 27 28 29 30 31 32 33 34 35 36 37 38 39]\n",
      "80\n"
     ]
    }
   ],
   "source": [
    "test4._update(expert_predictions,actual_values)"
   ]
  },
  {
   "cell_type": "code",
   "execution_count": 27,
   "metadata": {},
   "outputs": [
    {
     "data": {
      "text/plain": [
       "0.1696535106103778"
      ]
     },
     "execution_count": 27,
     "metadata": {},
     "output_type": "execute_result"
    }
   ],
   "source": [
    "test4.epsilon"
   ]
  },
  {
   "cell_type": "code",
   "execution_count": 28,
   "metadata": {},
   "outputs": [
    {
     "data": {
      "text/plain": [
       "80"
      ]
     },
     "execution_count": 28,
     "metadata": {},
     "output_type": "execute_result"
    }
   ],
   "source": [
    "test4.time"
   ]
  },
  {
   "cell_type": "markdown",
   "metadata": {},
   "source": [
    "# Normal Hedge"
   ]
  },
  {
   "cell_type": "code",
   "execution_count": 29,
   "metadata": {},
   "outputs": [],
   "source": [
    "# Need to ensure that the loss lies in an interval of length 1"
   ]
  },
  {
   "cell_type": "code",
   "execution_count": null,
   "metadata": {},
   "outputs": [],
   "source": [
    "class OnlineHedge(object):\n",
    "\n",
    "    def __init__(self,n=10,T=10,a=1):\n",
    "        self.R = np.zeros(n)\n",
    "        self.weights = _set_uniform(n)\n",
    "        \n",
    "        self.time = 0\n",
    "    def _predict(self, expert_predictions):\n",
    "        choosen_prediction = expert_predictions[_choose_from_distribution(self.weights,sample_size=1)]\n",
    "        return chosen_prediction\n",
    "    \n",
    "    def _update(self, expert_predictions, actual_values, loss_func = se):\n",
    "        \n",
    "        assert expert_predictions.shape[1]==len(actual_values), \"Time Dimension Matches\"\n",
    "        \n",
    "        time_length = expert_predictions.shape[1]\n",
    "        total_time = time_length+self.time\n",
    "        \n",
    "        for i in range(len(expert_predictions)):\n",
    "            loss_vector = np.array([loss_fun(prediction,actual_values) for prediction in expert_predictions[:,i]])\n",
    "            average_loss = np.dot(self.weights,loss_vector)\n",
    "            \n",
    "            instant_regret = (average_loss - loss_vector)\n",
    "            self.R += instant_regret\n",
    "            \n",
    "            self._update_weights()\n",
    "    \n",
    "    def _update_weights(self):\n",
    "        \n",
    "        # Calculating Normalizing Constant\n",
    "        R_plus = list(map(lambda x: 0 if 0 > x else x , self.R))\n",
    "        \n",
    "        low_c = (min(R_plus)**2)/2\n",
    "        high_c = (max(R_plus)**2)/2\n",
    "        pot = lambda c: np.mean(np.exp((R_plus**2)/(2*c)))-np.e\n",
    "        \n",
    "        c_t = bisection(low_c,high_c,pot)\n",
    "        \n",
    "        # Calculating Probabilities\n",
    "        prob = lambda r, c_t: (x/c_t)*np.exp((r**2)/(2*c_t))\n",
    "        \n",
    "        self.weights = np.array([prob(r,c_t) for r in R_plus])\n",
    "        self.weights /= np.sum(self.weights)\n",
    "        \n",
    "        \n",
    "def bisection(low,high,function,threshold=1e-8):\n",
    "    left = low\n",
    "    right = high\n",
    "    \n",
    "    if function(low)>0:\n",
    "        left = high\n",
    "        right = low\n",
    "    \n",
    "    while abs(left-right)>1e-8:\n",
    "        mid = (left+right)/2\n",
    "        print(mid)\n",
    "        if function(mid)>0:\n",
    "            right=mid\n",
    "        else:\n",
    "            left=mid\n",
    "            \n",
    "    return (left+right)/2"
   ]
  },
  {
   "cell_type": "code",
   "execution_count": 34,
   "metadata": {},
   "outputs": [],
   "source": [
    "a = np.array([1,21,-1,21,-5])"
   ]
  },
  {
   "cell_type": "code",
   "execution_count": 39,
   "metadata": {},
   "outputs": [],
   "source": [
    "b = list(map(lambda x: 0 if 0 > x else x , a))"
   ]
  },
  {
   "cell_type": "code",
   "execution_count": 47,
   "metadata": {},
   "outputs": [],
   "source": [
    "# Low\n",
    "low = (min(b)**2)/2"
   ]
  },
  {
   "cell_type": "code",
   "execution_count": 48,
   "metadata": {},
   "outputs": [],
   "source": [
    "# high\n",
    "high = (max(b)**2)/2"
   ]
  },
  {
   "cell_type": "code",
   "execution_count": 60,
   "metadata": {},
   "outputs": [
    {
     "name": "stderr",
     "output_type": "stream",
     "text": [
      "/opt/anaconda3/lib/python3.7/site-packages/ipykernel_launcher.py:1: RuntimeWarning: divide by zero encountered in true_divide\n",
      "  \"\"\"Entry point for launching an IPython kernel.\n"
     ]
    },
    {
     "data": {
      "text/plain": [
       "[<matplotlib.lines.Line2D at 0x11fac2790>]"
      ]
     },
     "execution_count": 60,
     "metadata": {},
     "output_type": "execute_result"
    },
    {
     "data": {
      "image/png": "[encoded data removed]",
      "text/plain": [
       "<Figure size 432x288 with 1 Axes>"
      ]
     },
     "metadata": {
      "needs_background": "light"
     },
     "output_type": "display_data"
    }
   ],
   "source": [
    "plt.plot(np.linspace(low,high,10), [pot(element) for  element in np.linspace(low,high,10)])"
   ]
  },
  {
   "cell_type": "code",
   "execution_count": 59,
   "metadata": {},
   "outputs": [],
   "source": [
    "pot = lambda c: np.mean(np.exp((a**2)/(2*c)))-np.e"
   ]
  },
  {
   "cell_type": "code",
   "execution_count": 95,
   "metadata": {},
   "outputs": [
    {
     "name": "stdout",
     "output_type": "stream",
     "text": [
      "110.25\n",
      "165.375\n",
      "137.8125\n",
      "124.03125\n",
      "130.921875\n",
      "134.3671875\n",
      "132.64453125\n",
      "133.505859375\n",
      "133.0751953125\n",
      "133.29052734375\n",
      "133.182861328125\n",
      "133.1290283203125\n",
      "133.10211181640625\n",
      "133.08865356445312\n",
      "133.08192443847656\n",
      "133.08528900146484\n",
      "133.0836067199707\n",
      "133.08444786071777\n",
      "133.0848684310913\n",
      "133.08507871627808\n",
      "133.0849735736847\n",
      "133.084921002388\n",
      "133.08489471673965\n",
      "133.08490785956383\n",
      "133.0849144309759\n",
      "133.08491114526987\n",
      "133.08490950241685\n",
      "133.08491032384336\n",
      "133.0849099131301\n",
      "133.08490970777348\n",
      "133.08490960509516\n",
      "133.08490965643432\n",
      "133.0849096821039\n",
      "133.0849096692691\n",
      "133.0849096756865\n"
     ]
    },
    {
     "name": "stderr",
     "output_type": "stream",
     "text": [
      "/opt/anaconda3/lib/python3.7/site-packages/ipykernel_launcher.py:1: RuntimeWarning: divide by zero encountered in true_divide\n",
      "  \"\"\"Entry point for launching an IPython kernel.\n"
     ]
    },
    {
     "data": {
      "text/plain": [
       "133.0849096788952"
      ]
     },
     "execution_count": 95,
     "metadata": {},
     "output_type": "execute_result"
    }
   ],
   "source": [
    "bisection(low,high,pot)"
   ]
  }
 ],
 "metadata": {
  "kernelspec": {
   "display_name": "Python 3",
   "language": "python",
   "name": "python3"
  },
  "language_info": {
   "codemirror_mode": {
    "name": "ipython",
    "version": 3
   },
   "file_extension": ".py",
   "mimetype": "text/x-python",
   "name": "python",
   "nbconvert_exporter": "python",
   "pygments_lexer": "ipython3",
   "version": "3.7.4"
  }
 },
 "nbformat": 4,
 "nbformat_minor": 2
}
