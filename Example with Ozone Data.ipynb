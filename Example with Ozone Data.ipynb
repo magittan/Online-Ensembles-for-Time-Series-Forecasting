{
 "cells": [
  {
   "cell_type": "code",
   "execution_count": 22,
   "metadata": {},
   "outputs": [],
   "source": [
    "# load and prepare\n",
    "from pandas import read_csv\n",
    "from matplotlib import pyplot\n",
    "from numpy import array\n",
    "from numpy import hstack\n",
    "from numpy import savetxt\n",
    "import numpy as np\n",
    "import matplotlib.pyplot as plt\n",
    "# load dataset\n",
    "data = read_csv('eighthr.data', header=None, index_col=0, parse_dates=True, squeeze=True)\n",
    "values = data.values\n",
    "# replace missing observations with 0\n",
    "values[values=='?'] = 0.0\n",
    "# frame as supervised learning\n",
    "supervised = list()\n",
    "for i in range(len(values) - 1):\n",
    "    X, y = values[i, :-1], values[i + 1, -1]\n",
    "    row = hstack((X,y))\n",
    "    supervised.append(row)\n",
    "supervised = array(supervised)\n",
    "# split into train-test\n",
    "split = 365 * 2\n",
    "train, test = supervised[:-split,:], supervised[-split:,:]\n",
    "train, test = train.astype('float32'), test.astype('float32')\n",
    "# print(train.shape, test.shape)\n",
    "# # save prepared datasets\n",
    "# savetxt('train.csv', train, delimiter=',')\n",
    "# savetxt('test.csv', test, delimiter=',')"
   ]
  },
  {
   "cell_type": "code",
   "execution_count": 4,
   "metadata": {},
   "outputs": [
    {
     "data": {
      "text/plain": [
       "(2533, 73)"
      ]
     },
     "execution_count": 4,
     "metadata": {},
     "output_type": "execute_result"
    }
   ],
   "source": [
    "supervised.shape"
   ]
  },
  {
   "cell_type": "code",
   "execution_count": 9,
   "metadata": {},
   "outputs": [],
   "source": [
    "hstack?"
   ]
  },
  {
   "cell_type": "code",
   "execution_count": 20,
   "metadata": {},
   "outputs": [
    {
     "data": {
      "text/plain": [
       "array([0.8, 2.8, 2.9, ..., 1. , 0.8, 1.3])"
      ]
     },
     "execution_count": 20,
     "metadata": {},
     "output_type": "execute_result"
    }
   ],
   "source": [
    "supervised[:,0].astype(np.float)"
   ]
  },
  {
   "cell_type": "code",
   "execution_count": 34,
   "metadata": {},
   "outputs": [
    {
     "data": {
      "text/plain": [
       "[<matplotlib.lines.Line2D at 0x122665bd0>]"
      ]
     },
     "execution_count": 34,
     "metadata": {},
     "output_type": "execute_result"
    },
    {
     "data": {
      "image/png": "[encoded data removed]",
      "text/plain": [
       "<Figure size 432x288 with 1 Axes>"
      ]
     },
     "metadata": {
      "needs_background": "light"
     },
     "output_type": "display_data"
    }
   ],
   "source": [
    "plt.plot(supervised[:,70].astype(np.float))"
   ]
  },
  {
   "cell_type": "code",
   "execution_count": 35,
   "metadata": {},
   "outputs": [
    {
     "data": {
      "text/plain": [
       "array([-55., -55., -40., ...,  15., -35., -30.])"
      ]
     },
     "execution_count": 35,
     "metadata": {},
     "output_type": "execute_result"
    }
   ],
   "source": [
    "supervised[:,70].astype(np.float)"
   ]
  },
  {
   "cell_type": "code",
   "execution_count": null,
   "metadata": {},
   "outputs": [],
   "source": []
  }
 ],
 "metadata": {
  "kernelspec": {
   "display_name": "Python 3",
   "language": "python",
   "name": "python3"
  },
  "language_info": {
   "codemirror_mode": {
    "name": "ipython",
    "version": 3
   },
   "file_extension": ".py",
   "mimetype": "text/x-python",
   "name": "python",
   "nbconvert_exporter": "python",
   "pygments_lexer": "ipython3",
   "version": "3.7.4"
  }
 },
 "nbformat": 4,
 "nbformat_minor": 2
}
