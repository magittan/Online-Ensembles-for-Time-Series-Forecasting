{
 "cells": [
  {
   "cell_type": "code",
   "execution_count": 1,
   "metadata": {},
   "outputs": [],
   "source": [
    "import numpy as np"
   ]
  },
  {
   "cell_type": "code",
   "execution_count": 2,
   "metadata": {},
   "outputs": [],
   "source": [
    "from Expert_Prediction.online_experts import *\n",
    "from Ensemble_Methods.ensemble_algorithms import *\n",
    "from ensemble import *"
   ]
  },
  {
   "cell_type": "markdown",
   "metadata": {},
   "source": [
    "# Building Forecasters"
   ]
  },
  {
   "cell_type": "code",
   "execution_count": 3,
   "metadata": {},
   "outputs": [],
   "source": [
    "\"Training Models\"\n",
    "actual_values = np.random.randint(0,10,size=[40])\n",
    "def create_expert(std,actual_values):\n",
    "    return actual_values+np.random.randn(actual_values.size)*std\n",
    "\n",
    "# Fixed Standard Deviations for each expert\n",
    "stds = [1,0.1,0.03,0.5,1.3,2,5,1,2,5]\n",
    "expert_predictions = np.array([create_expert(std,actual_values) for std in stds])"
   ]
  },
  {
   "cell_type": "code",
   "execution_count": 4,
   "metadata": {},
   "outputs": [],
   "source": [
    "experts = [CannedExpert(expert_predictions[i]) for i in range(10)]"
   ]
  },
  {
   "cell_type": "code",
   "execution_count": 5,
   "metadata": {},
   "outputs": [
    {
     "data": {
      "text/plain": [
       "8.919599630547486"
      ]
     },
     "execution_count": 5,
     "metadata": {},
     "output_type": "execute_result"
    }
   ],
   "source": [
    "experts[0]._predict(1)"
   ]
  },
  {
   "cell_type": "markdown",
   "metadata": {},
   "source": [
    "# Building Ensemble Forecaster"
   ]
  },
  {
   "cell_type": "code",
   "execution_count": 6,
   "metadata": {},
   "outputs": [],
   "source": [
    "ensemble_forecaster = EnsembleForecaster(experts,NNLSEnsemble(10,loss_func=se))"
   ]
  },
  {
   "cell_type": "code",
   "execution_count": 9,
   "metadata": {},
   "outputs": [],
   "source": [
    "prediction = ensemble_forecaster._predict(1)"
   ]
  },
  {
   "cell_type": "code",
   "execution_count": 10,
   "metadata": {},
   "outputs": [],
   "source": [
    "prediction"
   ]
  },
  {
   "cell_type": "markdown",
   "metadata": {},
   "source": [
    "Prescription for training:\n",
    "- "
   ]
  },
  {
   "cell_type": "code",
   "execution_count": null,
   "metadata": {},
   "outputs": [],
   "source": [
    "def calculate_losses(predicted,actual,loss_func = None):\n",
    "    assert len(predicted)==len(actual)\n",
    "    total_length = len(predicted)\n",
    "    \n",
    "    output = [loss_func(predicted[i],actual[i]) for i in range(total_length)]\n",
    "    return output"
   ]
  },
  {
   "cell_type": "code",
   "execution_count": null,
   "metadata": {},
   "outputs": [],
   "source": [
    "predictions = []\n",
    "for i in range(21,40):\n",
    "    predictions.append(test5._predict(expert_predictions[:,i]))\n",
    "    test5._update(expert_predictions[:,i][:,np.newaxis],actual_values[i,np.newaxis])\n",
    "plt.plot(predictions,label=\"Predictions\")\n",
    "plt.plot(actual_values[21:40],label=\"Actual Values\")\n",
    "plt.legend()"
   ]
  },
  {
   "cell_type": "markdown",
   "metadata": {},
   "source": [
    "We can either\n",
    "- train the ensemble while it is running\n",
    "- train the ensemble before it is running\n",
    "- train the ensemble while it is running and then also pre-train it\n",
    "- cold start it"
   ]
  },
  {
   "cell_type": "markdown",
   "metadata": {},
   "source": [
    "Pre-train requires online"
   ]
  },
  {
   "cell_type": "code",
   "execution_count": null,
   "metadata": {},
   "outputs": [],
   "source": [
    " how many past values to include, i.e. the\n",
    "size of the embed"
   ]
  },
  {
   "cell_type": "code",
   "execution_count": null,
   "metadata": {},
   "outputs": [],
   "source": [
    "def _fit_expert(X)"
   ]
  },
  {
   "cell_type": "markdown",
   "metadata": {},
   "source": [
    "Would it make sense to pretrain the models to begin with. YES! Forecast with SKTIME and the other one."
   ]
  },
  {
   "cell_type": "code",
   "execution_count": 1,
   "metadata": {},
   "outputs": [
    {
     "ename": "IndentationError",
     "evalue": "expected an indented block (<ipython-input-1-116e96030850>, line 4)",
     "output_type": "error",
     "traceback": [
      "\u001b[0;36m  File \u001b[0;32m\"<ipython-input-1-116e96030850>\"\u001b[0;36m, line \u001b[0;32m4\u001b[0m\n\u001b[0;31m    def _predict(self):\u001b[0m\n\u001b[0m      ^\u001b[0m\n\u001b[0;31mIndentationError\u001b[0m\u001b[0;31m:\u001b[0m expected an indented block\n"
     ]
    }
   ],
   "source": [
    "class ForecastingExpert(Expert):\n",
    "    def __init__(self,outputs):\n",
    "    \n",
    "    def _predict(self):\n",
    "    \n",
    "    def _fit(self,train_data):"
   ]
  },
  {
   "cell_type": "code",
   "execution_count": null,
   "metadata": {},
   "outputs": [],
   "source": []
  },
  {
   "cell_type": "code",
   "execution_count": 2,
   "metadata": {},
   "outputs": [],
   "source": [
    "from sktime.forecasters.base import BaseForecaster\n",
    "from sktime.forecasters.base import BaseSingleSeriesForecaster\n",
    "from sktime.forecasters.base import BaseUpdateableForecaster"
   ]
  },
  {
   "cell_type": "code",
   "execution_count": null,
   "metadata": {},
   "outputs": [],
   "source": [
    "class EnsembleForecaster(BaseForecaster):\n",
    "    \"\"\"\n",
    "    Ensemble of forecasters.\n",
    "    Parameters\n",
    "    ----------\n",
    "    estimators : list of (str, estimator) tuples\n",
    "        List of (name, estimator) tuples.\n",
    "    weights : array-like, shape = [n_estimators], optional (default=None)\n",
    "        Sequence of weights (float or int) to weight the occurrences of predicted values before averaging.\n",
    "        Uses uniform weights if None.\n",
    "    check_input : bool, optional (default=True)\n",
    "        - If True, input are checked.\n",
    "        - If False, input are not checked and assumed correct. Use with caution.\n",
    "    \"\"\"\n",
    "\n",
    "    # TODO: experimental, major functionality not implemented (input checks, params interface, exogenous variables)\n",
    "\n",
    "    def __init__(self, estimators=None, weights=None, check_input=True):\n",
    "        # TODO add input checks\n",
    "        self.estimators = estimators\n",
    "        self.weights = weights\n",
    "        self.fitted_estimators_ = []\n",
    "        super(EnsembleForecaster, self).__init__(check_input=check_input)\n",
    "\n",
    "    def fit_estimators(self, y, fh=1, X=None):\n",
    "        \"\"\"\n",
    "        Internal fit.\n",
    "        Parameters\n",
    "        ----------\n",
    "        y : pandas.Series\n",
    "            Target time series to which to fit the forecaster.\n",
    "        X : pandas.DataFrame, shape=[n_obs, n_vars], optional (default=None)\n",
    "            An optional 2-d dataframe of exogenous variables. If provided, these\n",
    "            variables are used as additional features in the regression\n",
    "            operation. This should not include a constant or trend. Note that\n",
    "            if an ``ARIMA`` is fit on exogenous features, it must also be provided\n",
    "            exogenous features for making predictions.\n",
    "        Returns\n",
    "        -------\n",
    "        self : returns an instance of self.\n",
    "        \"\"\"\n",
    "        # validate forecasting horizon\n",
    "        fh = validate_fh(fh)\n",
    "\n",
    "        # Clear previously fitted estimators\n",
    "        self.fitted_estimators_ = []\n",
    "\n",
    "        for _, estimator in self.estimators:\n",
    "            # TODO implement set/get params interface\n",
    "            # estimator.set_params(**{\"check_input\": False})\n",
    "            fitted_estimator = estimator.fit(y, fh=fh, X=X)\n",
    "            self.fitted_estimators_.append(fitted_estimator)\n",
    "        return self\n",
    "\n",
    "    def predict(self, fh=1, X=None):\n",
    "        \"\"\"\n",
    "        Internal predict using fitted estimator.\n",
    "        Parameters\n",
    "        ----------\n",
    "        fh : array-like, optional (default=None)\n",
    "            The forecasters horizon with the steps ahead to to predict. Default is one-step ahead forecast,\n",
    "            i.e. np.array([1])\n",
    "        X : pandas.DataFrame, shape=[n_obs, n_vars], optional (default=None)\n",
    "            An optional 2-d dataframe of exogenous variables. If provided, these\n",
    "            variables are used as additional features in the regression\n",
    "            operation. This should not include a constant or trend. Note that if\n",
    "            provided, the forecaster must also have been fitted on the exogenous\n",
    "            features.\n",
    "        Returns\n",
    "        -------\n",
    "        Predictions : pandas.Series, shape=(len(fh),)\n",
    "            Returns series of predicted values.\n",
    "        \"\"\"\n",
    "        # TODO pass X only to estimators where the predict method accepts X, currenlty X is ignored\n",
    "\n",
    "        # Forecast all periods from start to end of pred horizon, but only return given time points in pred horizon\n",
    "        fh = validate_fh(fh)\n",
    "        fh_idx = fh - np.min(fh)\n",
    "\n",
    "        # Iterate over estimators\n",
    "        y_preds = np.zeros((len(self.fitted_estimators_), len(fh)))\n",
    "        indexes = []\n",
    "        for i, estimator in enumerate(self.fitted_estimators_):\n",
    "            y_pred = estimator.predict(fh=fh)\n",
    "            y_preds[i, :] = y_pred\n",
    "            indexes.append(y_pred.index)\n",
    "\n",
    "        # Check if all predicted horizons are identical\n",
    "        if not all(index.equals(indexes[0]) for index in indexes):\n",
    "            raise ValueError('Predicted horizons from estimators do not match')\n",
    "\n",
    "        # Average predictions over estimators\n",
    "        avg_preds = np.average(y_preds, axis=0, weights=self.weights)\n",
    "\n",
    "        # Return average predictions with index\n",
    "        index = indexes[0]\n",
    "        name = y_preds[0].name if hasattr(y_preds[0], 'name') else None\n",
    "        return pd.Series(avg_preds, index=index, name=name)\n",
    "\n",
    "    def get_params(self, deep=True):\n",
    "        # TODO fix get and set params interface following sklearn double underscore convention\n",
    "        raise NotImplementedError()\n",
    "\n",
    "    def set_params(self, **params):\n",
    "        raise NotImplementedError()"
   ]
  }
 ],
 "metadata": {
  "kernelspec": {
   "display_name": "Python 3",
   "language": "python",
   "name": "python3"
  },
  "language_info": {
   "codemirror_mode": {
    "name": "ipython",
    "version": 3
   },
   "file_extension": ".py",
   "mimetype": "text/x-python",
   "name": "python",
   "nbconvert_exporter": "python",
   "pygments_lexer": "ipython3",
   "version": "3.7.4"
  }
 },
 "nbformat": 4,
 "nbformat_minor": 2
}
